{
 "cells": [
  {
   "cell_type": "code",
   "execution_count": null,
   "metadata": {},
   "outputs": [],
   "source": [
    "#Have the function NumberReverse(str) take the str parameter being passed which will be a string of numbers, \n",
    "#and return a new string with the numbers in reverse order.\n",
    "\n",
    "def NumberReverse(strParam):\n",
    "\n",
    "  return \" \".join(reversed(strParam.split(\" \")))\n",
    "\n",
    "# keep this function call here \n",
    "print(NumberReverse(input()))"
   ]
  },
  {
   "cell_type": "code",
   "execution_count": null,
   "metadata": {},
   "outputs": [],
   "source": []
  }
 ],
 "metadata": {
  "kernelspec": {
   "display_name": "Python 3",
   "language": "python",
   "name": "python3"
  },
  "language_info": {
   "codemirror_mode": {
    "name": "ipython",
    "version": 3
   },
   "file_extension": ".py",
   "mimetype": "text/x-python",
   "name": "python",
   "nbconvert_exporter": "python",
   "pygments_lexer": "ipython3",
   "version": "3.7.0"
  }
 },
 "nbformat": 4,
 "nbformat_minor": 2
}
